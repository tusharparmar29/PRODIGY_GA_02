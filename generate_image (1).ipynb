{
  "nbformat": 4,
  "nbformat_minor": 0,
  "metadata": {
    "colab": {
      "provenance": [],
      "gpuType": "T4"
    },
    "kernelspec": {
      "name": "python3",
      "display_name": "Python 3"
    },
    "language_info": {
      "name": "python"
    },
    "accelerator": "GPU"
  },
  "cells": [
    {
      "cell_type": "code",
      "source": [
        "!pip install diffusers transformers accelerate scipy safetensors --quiet"
      ],
      "metadata": {
        "id": "OkR_cs_Zm9s8"
      },
      "execution_count": null,
      "outputs": []
    },
    {
      "cell_type": "code",
      "source": [
        "from huggingface_hub import login\n",
        "\n",
        "login(token=\"hf_xxxxxxxxxxxxxxxxxxxxxxxxxxxx\")\n"
      ],
      "metadata": {
        "id": "ddZ_JgSEnHgs"
      },
      "execution_count": null,
      "outputs": []
    },
    {
      "cell_type": "code",
      "source": [
        "import torch\n",
        "from diffusers import StableDiffusionPipeline\n",
        "\n",
        "pipe = StableDiffusionPipeline.from_pretrained(\n",
        "    \"runwayml/stable-diffusion-v1-5\",\n",
        "    torch_dtype=torch.float32\n",
        ")\n",
        "pipe.to(\"cuda\")"
      ],
      "metadata": {
        "id": "g94LG-VQnUgu"
      },
      "execution_count": null,
      "outputs": []
    },
    {
      "cell_type": "code",
      "source": [
        "prompt = \"a futuristic robot teaching in a classroom\"\n",
        "\n",
        "image = pipe(prompt).images[0]\n",
        "image.show()\n",
        "image.save(\"generated_image.png\")\n"
      ],
      "metadata": {
        "id": "9tA5lFxInyNU"
      },
      "execution_count": null,
      "outputs": []
    },
    {
      "cell_type": "code",
      "source": [
        "from google.colab import files\n",
        "files.download(\"generated_image.png\")\n"
      ],
      "metadata": {
        "id": "pbitP6Agn9II"
      },
      "execution_count": null,
      "outputs": []
    }
  ]
}